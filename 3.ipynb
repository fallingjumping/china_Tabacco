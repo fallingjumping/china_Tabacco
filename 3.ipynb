{
 "cells": [
  {
   "cell_type": "code",
   "execution_count": 576,
   "metadata": {},
   "outputs": [],
   "source": [
    "import pandas as pd\n",
    "import numpy as np"
   ]
  },
  {
   "attachments": {},
   "cell_type": "markdown",
   "metadata": {},
   "source": [
    "dataset"
   ]
  },
  {
   "cell_type": "code",
   "execution_count": 596,
   "metadata": {},
   "outputs": [
    {
     "data": {
      "text/plain": [
       "(20739,\n",
       "    时间  2号切丝机运行  KLD1区蒸汽薄膜阀开度（%）d  KLDD烘丝分汽缸压力  KLD一次减压后蒸汽压力（bar）d  \\\n",
       " 0   0      0.0          7.130246     1.007674            8.135416   \n",
       " 1  10      0.0          7.114031     1.007145            8.164428   \n",
       " 2  20      0.0          7.094557     1.006708            8.172080   \n",
       " 3  30      0.0          7.075699     1.006270            8.140161   \n",
       " 4  40      0.0          7.056201     1.005594            8.134223   \n",
       " \n",
       "    KLD排潮风门开度（%）d  KLD烘丝机管道风速差压传感器读数d  KLD烘后水分（%）d  KLD烘后温度（℃）d  KLD热风温度（℃）d  \\\n",
       " 0       57.52197            3.295733         7.70     57.18573     104.9634   \n",
       " 1       58.10431            3.298391         9.09     58.12214     105.0857   \n",
       " 2       56.83694            3.261219         9.95     59.01615     105.1195   \n",
       " 3       56.57774            3.300934        10.55     59.93435     105.0528   \n",
       " 4       57.34220            3.291326        11.01     60.63480     105.0458   \n",
       " \n",
       "    ...  热风电机电流d  筒体电机电流d  膨胀轮电机电流d  锅炉分汽缸压力-薄板D  除尘房排潮风机频率(Hz)d  除尘房排潮风门开度d  \\\n",
       " 0  ...    10.76    11.20      4.54     1.053241        34.99756    55.46382   \n",
       " 1  ...    10.46    11.03      4.59     1.053241        34.99756    55.40580   \n",
       " 2  ...    10.29    11.66      4.53     1.053241        34.99756    55.35964   \n",
       " 3  ...    10.22    11.45      4.70     1.053241        34.99756    55.42481   \n",
       " 4  ...    10.35    11.25      4.60     1.054398        34.99756    55.42307   \n",
       " \n",
       "    除尘房除尘风机频率d  风选冷却排潮开度（%）d  风选冷却排潮负压（mbar）d  KLD热风风门开度（%）d  \n",
       " 0    29.99573      67.75173         303.8194           50.0  \n",
       " 1    29.99573      67.75173         305.2662           50.0  \n",
       " 2    29.99573      67.75173         298.7558           50.0  \n",
       " 3    29.99573      67.75173         300.2025           50.0  \n",
       " 4    29.99573      67.75173         304.5428           50.0  \n",
       " \n",
       " [5 rows x 40 columns])"
      ]
     },
     "execution_count": 596,
     "metadata": {},
     "output_type": "execute_result"
    }
   ],
   "source": [
    "# data = pd.read_csv('./test.csv', encoding='utf-16', sep='\\t')\n",
    "data = pd.read_csv('./full_data.csv', encoding='utf-16', sep='\\t')\n",
    "data.drop(columns=['Unnamed: 0'], inplace=True)\n",
    "data.head()\n",
    "num = int(len(data) * 0.5)\n",
    "data = data.iloc[:num,:]\n",
    "num, data.head()"
   ]
  },
  {
   "cell_type": "code",
   "execution_count": 572,
   "metadata": {},
   "outputs": [],
   "source": [
    "data = data.loc[:, ['KLD烘丝机管道风速差压传感器读数d', 'KLD1区蒸汽薄膜阀开度（%）d', '烘前喂料机提升带速度', '时间',\n",
    "                    '烘前叶丝流量（kg/h）d', 'KLD除水量（l/h）d','KLD热风风门开度（%）d']]"
   ]
  },
  {
   "cell_type": "code",
   "execution_count": 597,
   "metadata": {},
   "outputs": [
    {
     "data": {
      "text/plain": [
       "(40, 39)"
      ]
     },
     "execution_count": 597,
     "metadata": {},
     "output_type": "execute_result"
    }
   ],
   "source": [
    "import copy\n",
    "# data.drop(columns=['KLD烘丝机管道风速差压传感器读数d','时间','除尘房排潮风门开度d','ZC-36除尘风机负压值d'],inplace=True) #\n",
    "dd = copy.deepcopy(data)\n",
    "dd = dd.drop(columns=['KLD热风风门开度（%）d'])\n",
    "len(data.columns),len(dd.columns)"
   ]
  },
  {
   "cell_type": "code",
   "execution_count": 257,
   "metadata": {},
   "outputs": [],
   "source": [
    "# data['时间'] = data['时间'].astype('datetime64[ns]')\n",
    "# data['时间'] = data[['时间']].apply(lambda x: x[0].timestamp(), axis=1).astype(int)\n",
    "# # data['时间'] = data['时间'].astype('int64') // 10**9\n",
    "# data['时间'] = data['时间'] - data['时间'][0]\n",
    "\n",
    "# data.drop(columns=['Unnamed: 0'], inplace=True)\n",
    "\n",
    "# data.head()"
   ]
  },
  {
   "cell_type": "code",
   "execution_count": 548,
   "metadata": {},
   "outputs": [],
   "source": [
    "# KLD热风风门开度（%）d\n",
    "y = data['KLD热风风门开度（%）d']\n",
    "x = data.drop(columns=['KLD热风风门开度（%）d'])\n",
    "# x.head()"
   ]
  },
  {
   "attachments": {},
   "cell_type": "markdown",
   "metadata": {},
   "source": [
    "数据集打乱"
   ]
  },
  {
   "cell_type": "code",
   "execution_count": 598,
   "metadata": {},
   "outputs": [
    {
     "data": {
      "text/plain": [
       "(20739, 40)"
      ]
     },
     "execution_count": 598,
     "metadata": {},
     "output_type": "execute_result"
    }
   ],
   "source": [
    "from sklearn.utils import shuffle\n",
    "data = shuffle(data, n_samples=len(data))\n",
    "data.shape"
   ]
  },
  {
   "cell_type": "code",
   "execution_count": 599,
   "metadata": {},
   "outputs": [],
   "source": [
    "y = data['KLD热风风门开度（%）d']\n",
    "x = data.drop(columns=['KLD热风风门开度（%）d'])\n",
    "names = x.columns.tolist()"
   ]
  },
  {
   "attachments": {},
   "cell_type": "markdown",
   "metadata": {},
   "source": [
    "标准化"
   ]
  },
  {
   "cell_type": "code",
   "execution_count": 519,
   "metadata": {},
   "outputs": [
    {
     "data": {
      "text/plain": [
       "(20739, 7)"
      ]
     },
     "execution_count": 519,
     "metadata": {},
     "output_type": "execute_result"
    }
   ],
   "source": [
    "from sklearn.preprocessing import StandardScaler\n",
    "scaler = StandardScaler()\n",
    "data = scaler.fit_transform(data)\n",
    "\n",
    "data.shape #,data[:,7], "
   ]
  },
  {
   "cell_type": "code",
   "execution_count": 522,
   "metadata": {},
   "outputs": [
    {
     "data": {
      "text/plain": [
       "((20739, 6), (20739, 1))"
      ]
     },
     "execution_count": 522,
     "metadata": {},
     "output_type": "execute_result"
    }
   ],
   "source": [
    "x = np.delete(data,6,axis=1)\n",
    "y = data[:,6].reshape((-1,1))\n",
    "x.shape, y.shape"
   ]
  },
  {
   "cell_type": "code",
   "execution_count": 600,
   "metadata": {},
   "outputs": [],
   "source": [
    "x_scaler = StandardScaler()\n",
    "x = x_scaler.fit_transform(x,y)\n",
    "y = np.array(y)"
   ]
  },
  {
   "attachments": {},
   "cell_type": "markdown",
   "metadata": {},
   "source": [
    "选择模型"
   ]
  },
  {
   "cell_type": "code",
   "execution_count": 601,
   "metadata": {},
   "outputs": [
    {
     "name": "stdout",
     "output_type": "stream",
     "text": [
      "16591\n"
     ]
    }
   ],
   "source": [
    "from sklearn.model_selection import train_test_split\n",
    "x_train, x_test, y_train, y_test = train_test_split(x, y, test_size=0.2)\n",
    "print(len(x_train))"
   ]
  },
  {
   "cell_type": "code",
   "execution_count": 530,
   "metadata": {},
   "outputs": [],
   "source": [
    "from sklearn import metrics\n",
    "import matplotlib.pyplot as plt\n",
    "import seaborn as sns\n",
    "\n",
    "plt.rcParams['font.sans-serif']=['SimHei']\n",
    "plt.rcParams['axes.unicode_minus'] = False"
   ]
  },
  {
   "cell_type": "code",
   "execution_count": 531,
   "metadata": {},
   "outputs": [
    {
     "data": {
      "text/plain": [
       "0.8646415953999829"
      ]
     },
     "execution_count": 531,
     "metadata": {},
     "output_type": "execute_result"
    }
   ],
   "source": [
    "# 1\n",
    "from sklearn.linear_model import LinearRegression\n",
    "clf = LinearRegression()\n",
    "rf = clf.fit(x_train, y_train)\n",
    "# rf.coef_\n",
    "y_pred = rf.predict(x_test)\n",
    "# print(y_pred)\n",
    "rf.score(x_test, y_test)"
   ]
  },
  {
   "cell_type": "code",
   "execution_count": 532,
   "metadata": {},
   "outputs": [
    {
     "name": "stderr",
     "output_type": "stream",
     "text": [
      "/tmp/ipykernel_992/3282668354.py:2: UserWarning: \n",
      "\n",
      "`distplot` is a deprecated function and will be removed in seaborn v0.14.0.\n",
      "\n",
      "Please adapt your code to use either `displot` (a figure-level function with\n",
      "similar flexibility) or `histplot` (an axes-level function for histograms).\n",
      "\n",
      "For a guide to updating your code to use the new functions, please see\n",
      "https://gist.github.com/mwaskom/de44147ed2974457ad6372750bbe5751\n",
      "\n",
      "  sns.distplot((y_test - y_pred))\n"
     ]
    },
    {
     "data": {
      "text/plain": [
       "<Axes: ylabel='Density'>"
      ]
     },
     "execution_count": 532,
     "metadata": {},
     "output_type": "execute_result"
    },
    {
     "data": {
      "image/png": "[encoded data removed]",
      "text/plain": [
       "<Figure size 640x480 with 1 Axes>"
      ]
     },
     "metadata": {},
     "output_type": "display_data"
    }
   ],
   "source": [
    "# plt.scatter(y_test,y_pred)\n",
    "sns.distplot((y_test - y_pred))"
   ]
  },
  {
   "cell_type": "code",
   "execution_count": 533,
   "metadata": {},
   "outputs": [
    {
     "data": {
      "text/plain": [
       "(2.2734557250433713, 0.5462471815435671, 2.2734557250433713)"
      ]
     },
     "execution_count": 533,
     "metadata": {},
     "output_type": "execute_result"
    }
   ],
   "source": [
    "from sklearn import metrics\n",
    "mse = metrics.mean_squared_error(y_test, y_pred)\n",
    "mae = metrics.mean_absolute_error(y_test, y_pred)\n",
    "rmse = metrics.mean_squared_error(y_test, y_pred)\n",
    "\n",
    "mse,mae, rmse"
   ]
  },
  {
   "cell_type": "code",
   "execution_count": 534,
   "metadata": {},
   "outputs": [
    {
     "data": {
      "text/plain": [
       "0.9154170740273874"
      ]
     },
     "execution_count": 534,
     "metadata": {},
     "output_type": "execute_result"
    }
   ],
   "source": [
    "# 2\n",
    "from sklearn.neighbors import KNeighborsRegressor\n",
    "knn = KNeighborsRegressor()\n",
    "knn_rf = knn.fit(x_train, y_train)\n",
    "knn_pre = knn_rf.predict(x_test)\n",
    "knn_rf.score(x_test, y_test)\n"
   ]
  },
  {
   "cell_type": "code",
   "execution_count": 535,
   "metadata": {},
   "outputs": [
    {
     "data": {
      "text/plain": [
       "(1.4206398033545644, 0.17446313934426233, 1.4206398033545644)"
      ]
     },
     "execution_count": 535,
     "metadata": {},
     "output_type": "execute_result"
    }
   ],
   "source": [
    "mse = metrics.mean_squared_error(y_test, knn_pre)\n",
    "mae = metrics.mean_absolute_error(y_test, knn_pre)\n",
    "rmse = metrics.mean_squared_error(y_test, knn_pre)\n",
    "\n",
    "mse,mae, rmse"
   ]
  },
  {
   "cell_type": "code",
   "execution_count": 293,
   "metadata": {},
   "outputs": [],
   "source": [
    "import pickle\n",
    "\n",
    "with open('model/knn.pickle', 'wb') as f:\n",
    "    pickle.dump(knn, f)"
   ]
  },
  {
   "cell_type": "code",
   "execution_count": 294,
   "metadata": {},
   "outputs": [],
   "source": [
    "with open('model/knn.pickle', 'rb') as f:\n",
    "    new_knn = pickle.load(f)"
   ]
  },
  {
   "cell_type": "code",
   "execution_count": 299,
   "metadata": {},
   "outputs": [
    {
     "name": "stderr",
     "output_type": "stream",
     "text": [
      "/tmp/ipykernel_992/1935175751.py:3: FutureWarning: The behavior of `series[i:j]` with an integer-dtype index is deprecated. In a future version, this will be treated as *label-based* indexing, consistent with e.g. `series[i]` lookups. To retain the old behavior, use `series.iloc[i:j]`. To get the future behavior, use `series.loc[i:j]`.\n",
      "  new_knn.fit(x_test[:100,:], y_test[:100])\n",
      "/tmp/ipykernel_992/1935175751.py:4: FutureWarning: The behavior of `series[i:j]` with an integer-dtype index is deprecated. In a future version, this will be treated as *label-based* indexing, consistent with e.g. `series[i]` lookups. To retain the old behavior, use `series.iloc[i:j]`. To get the future behavior, use `series.loc[i:j]`.\n",
      "  new_knn.score(x_test[100:,:], y_test[100:])\n"
     ]
    },
    {
     "data": {
      "text/plain": [
       "array([[-1.68201796e-01, -1.41319774e+00, -1.31623085e-02, ...,\n",
       "         3.55271368e-15, -5.50115042e-01, -2.89592588e-01],\n",
       "       [-1.14063770e+00, -1.41319774e+00,  1.16461283e-01, ...,\n",
       "         3.55271368e-15, -6.12589673e-01, -1.86056247e-01],\n",
       "       [ 5.12196394e-02, -1.41319774e+00,  2.00407248e-01, ...,\n",
       "         3.55271368e-15, -6.00099929e-01,  2.10450620e-02],\n",
       "       ...,\n",
       "       [ 1.56722228e+00,  7.07902887e-01,  1.74695709e-01, ...,\n",
       "         3.55271368e-15,  1.78670222e+00,  5.38784021e-01],\n",
       "       [-1.07580864e+00,  7.07902887e-01,  4.32306267e-02, ...,\n",
       "         3.55271368e-15,  1.78670222e+00,  1.36717494e+00],\n",
       "       [-2.13083453e-01,  7.07902887e-01,  1.82273984e-01, ...,\n",
       "         3.55271368e-15,  1.78670222e+00,  3.31682712e-01]])"
      ]
     },
     "execution_count": 299,
     "metadata": {},
     "output_type": "execute_result"
    }
   ],
   "source": [
    "# new_knn.predict(x_test)\n",
    "\n",
    "new_knn.fit(x_test[:100,:], y_test[:100])\n",
    "new_knn.score(x_test[100:,:], y_test[100:])"
   ]
  },
  {
   "cell_type": "code",
   "execution_count": 426,
   "metadata": {},
   "outputs": [
    {
     "name": "stderr",
     "output_type": "stream",
     "text": [
      "/mnt/e/code/offlineRL/revive/lib/python3.8/site-packages/sklearn/utils/validation.py:1143: DataConversionWarning: A column-vector y was passed when a 1d array was expected. Please change the shape of y to (n_samples, ), for example using ravel().\n",
      "  y = column_or_1d(y, warn=True)\n"
     ]
    },
    {
     "data": {
      "text/plain": [
       "0.27336434687092037"
      ]
     },
     "execution_count": 426,
     "metadata": {},
     "output_type": "execute_result"
    }
   ],
   "source": [
    "# 3\n",
    "from sklearn.svm import SVR\n",
    "\n",
    "svr = SVR(C=1, gamma=0.007)\n",
    "svr_rf = svr.fit(x_train, y_train)\n",
    "svr_pre = svr_rf.predict(x_train)\n",
    "svr_rf.score(x_test, y_test)\n",
    "\n",
    "# param_range = [0.0001,0.001,0.01,0.1,1.0,10.0,100.0,1000.0]\n",
    "# param_grid = {\"svr__C\":param_range,'svr_gamma':param_range,'svr_kernel':['rbf']}\n",
    "# gs = GridSearchCV(estimator=svr,\n",
    "#                   param_grid=param_range,\n",
    "#                   scoring= 'r2')\n",
    "# gs.fit(x_train, y_train)\n",
    "# gs.best_score_, gs.best_params_"
   ]
  },
  {
   "cell_type": "code",
   "execution_count": 427,
   "metadata": {},
   "outputs": [
    {
     "data": {
      "text/plain": [
       "7.847191114326774"
      ]
     },
     "execution_count": 427,
     "metadata": {},
     "output_type": "execute_result"
    }
   ],
   "source": [
    "mse = metrics.mean_squared_error(y_test, y_pred)\n",
    "mse"
   ]
  },
  {
   "cell_type": "code",
   "execution_count": 428,
   "metadata": {},
   "outputs": [
    {
     "data": {
      "text/plain": [
       "0.550648129867767"
      ]
     },
     "execution_count": 428,
     "metadata": {},
     "output_type": "execute_result"
    }
   ],
   "source": [
    "# 4\n",
    "from sklearn.linear_model import Ridge\n",
    "ridge = Ridge()\n",
    "ridge_rf = ridge.fit(x_train, y_train)\n",
    "ridge_pre = ridge_rf.predict(x_test)\n",
    "ridge_rf.score(x_test, y_test)"
   ]
  },
  {
   "cell_type": "code",
   "execution_count": 614,
   "metadata": {},
   "outputs": [
    {
     "data": {
      "text/plain": [
       "0.774382328358178"
      ]
     },
     "execution_count": 614,
     "metadata": {},
     "output_type": "execute_result"
    }
   ],
   "source": [
    "# 5\n",
    "from sklearn.linear_model import Lasso\n",
    "lasso = Lasso()\n",
    "lasso_rf = lasso.fit(x_train, y_train)\n",
    "lasso_pre = lasso_rf.predict(x_train)\n",
    "lasso_rf.score(x_test, y_test)"
   ]
  },
  {
   "cell_type": "code",
   "execution_count": 429,
   "metadata": {},
   "outputs": [
    {
     "name": "stderr",
     "output_type": "stream",
     "text": [
      "/mnt/e/code/offlineRL/revive/lib/python3.8/site-packages/sklearn/neural_network/_multilayer_perceptron.py:1623: DataConversionWarning: A column-vector y was passed when a 1d array was expected. Please change the shape of y to (n_samples, ), for example using ravel().\n",
      "  y = column_or_1d(y, warn=True)\n",
      "/mnt/e/code/offlineRL/revive/lib/python3.8/site-packages/sklearn/neural_network/_multilayer_perceptron.py:686: ConvergenceWarning: Stochastic Optimizer: Maximum iterations (200) reached and the optimization hasn't converged yet.\n",
      "  warnings.warn(\n"
     ]
    },
    {
     "data": {
      "text/plain": [
       "0.8405331819487819"
      ]
     },
     "execution_count": 429,
     "metadata": {},
     "output_type": "execute_result"
    }
   ],
   "source": [
    "# 6\n",
    "from sklearn.neural_network import MLPRegressor\n",
    "mlp = MLPRegressor(alpha=0.01)\n",
    "mlp_rf = mlp.fit(x_train, y_train) #.ravel()\n",
    "mlp_pre = mlp_rf.predict(x_test)\n",
    "mlp_rf.score(x_test, y_test)"
   ]
  },
  {
   "cell_type": "code",
   "execution_count": 430,
   "metadata": {},
   "outputs": [
    {
     "data": {
      "text/plain": [
       "0.8190024534135537"
      ]
     },
     "execution_count": 430,
     "metadata": {},
     "output_type": "execute_result"
    }
   ],
   "source": [
    "# 7\n",
    "from sklearn.tree import DecisionTreeRegressor\n",
    "dtr = DecisionTreeRegressor()\n",
    "dtr_rf = dtr.fit(x_train, y_train)\n",
    "dtr_pre = dtr_rf.predict(x_test)\n",
    "dtr_rf.score(x_test,y_test)"
   ]
  },
  {
   "cell_type": "code",
   "execution_count": 431,
   "metadata": {},
   "outputs": [
    {
     "data": {
      "text/plain": [
       "0.7070616833429293"
      ]
     },
     "execution_count": 431,
     "metadata": {},
     "output_type": "execute_result"
    }
   ],
   "source": [
    "# 8\n",
    "from sklearn.tree import ExtraTreeRegressor\n",
    "etr = ExtraTreeRegressor()\n",
    "etr_rf = etr.fit(x_train, y_train)\n",
    "etr_pre = etr_rf.predict(x_test)\n",
    "etr.score(x_test, y_test)"
   ]
  },
  {
   "cell_type": "code",
   "execution_count": 485,
   "metadata": {},
   "outputs": [],
   "source": [
    "# 9\n",
    "from sklearn.ensemble import RandomForestRegressor\n",
    "rfg = RandomForestRegressor()\n",
    "rfg_rf = rfg.fit(x_train, y_train) #.ravel()\n",
    "rfg_pre = rfg_rf.predict(x_test)\n",
    "acc = rfg_rf.score(x_test, y_test)"
   ]
  },
  {
   "cell_type": "code",
   "execution_count": 387,
   "metadata": {},
   "outputs": [
    {
     "data": {
      "text/plain": [
       "<Axes: >"
      ]
     },
     "execution_count": 387,
     "metadata": {},
     "output_type": "execute_result"
    },
    {
     "data": {
      "image/png": "[encoded data removed]",
      "text/plain": [
       "<Figure size 1000x700 with 1 Axes>"
      ]
     },
     "metadata": {},
     "output_type": "display_data"
    }
   ],
   "source": [
    "plt.figure(figsize=(10,7))\n",
    "len(rfg.feature_importances_),len(dd.columns)\n",
    "feat_importances = pd.Series(rfg.feature_importances_, index = dd.columns)\n",
    "feat_importances.nlargest(15).plot(kind='barh')"
   ]
  },
  {
   "cell_type": "code",
   "execution_count": 413,
   "metadata": {},
   "outputs": [
    {
     "data": {
      "text/plain": [
       "['PC-37排潮风机负压值d',\n",
       " 'KLD除水量（l/h）d',\n",
       " 'KLD1区蒸汽薄膜阀开度（%）d',\n",
       " 'KLD热风进筒温度（℃）d',\n",
       " 'KLD烘后温度（℃）d',\n",
       " 'KLD烘后水分（%）d',\n",
       " '烘丝筒1区筒壁温度设定',\n",
       " 'KLD一次减压后蒸汽压力（bar）d',\n",
       " 'KLD排潮风门开度（%）d',\n",
       " '制丝高压蒸汽DN200瞬时流量-薄板D',\n",
       " '筒体电机电流d',\n",
       " '冷却温度（℃）d',\n",
       " '排潮风机电机电流d',\n",
       " '烘前水分（%）d',\n",
       " 'KLD热风蒸汽薄膜阀开度（%）d']"
      ]
     },
     "execution_count": 413,
     "metadata": {},
     "output_type": "execute_result"
    }
   ],
   "source": [
    "col = feat_importances.nlargest(15)\n",
    "col.index.to_list()"
   ]
  },
  {
   "cell_type": "code",
   "execution_count": 151,
   "metadata": {},
   "outputs": [
    {
     "data": {
      "text/plain": [
       "6"
      ]
     },
     "execution_count": 151,
     "metadata": {},
     "output_type": "execute_result"
    }
   ],
   "source": [
    "dd.columns.get_loc('KLD烘丝机管道风速差压传感器读数d')"
   ]
  },
  {
   "cell_type": "code",
   "execution_count": 561,
   "metadata": {},
   "outputs": [],
   "source": [
    "names = x.columns.tolist()\n",
    "x = np.array(x)\n",
    "y = np.array(y)"
   ]
  },
  {
   "cell_type": "code",
   "execution_count": 611,
   "metadata": {},
   "outputs": [
    {
     "data": {
      "text/plain": [
       "0.15160131321118628"
      ]
     },
     "execution_count": 611,
     "metadata": {},
     "output_type": "execute_result"
    }
   ],
   "source": [
    "from collections import defaultdict\n",
    "from sklearn.metrics import r2_score, mean_squared_error,mean_absolute_error\n",
    "rfr = RandomForestRegressor()\n",
    "scores = defaultdict(list)\n",
    "scaler = StandardScaler()\n",
    "\n",
    "# x_train = scaler.fit_transform(x_train, y_train)\n",
    "r = rfr.fit(x_train, y_train)\n",
    "y_pre = rfr.predict(x_test)\n",
    "acc = mean_absolute_error(y_test, y_pre)\n",
    "acc"
   ]
  },
  {
   "cell_type": "code",
   "execution_count": 612,
   "metadata": {},
   "outputs": [
    {
     "data": {
      "text/plain": [
       "0.9214288751117623"
      ]
     },
     "execution_count": 612,
     "metadata": {},
     "output_type": "execute_result"
    }
   ],
   "source": [
    "rfr.score(x_test,y_test)"
   ]
  },
  {
   "cell_type": "code",
   "execution_count": 613,
   "metadata": {},
   "outputs": [
    {
     "name": "stdout",
     "output_type": "stream",
     "text": [
      "[(0.0134, '热风电机电流d'), (0.00149, '烘前水分（%）d'), (0.00048, '烘前叶丝流量（kg/h）d'), (0.00013, '排潮风机电机电流d'), (0.0, '除尘房除尘风机频率d'), (0.0, '除尘房排潮风机频率(Hz)d'), (0.0, '排潮风机电机频率d'), (0.0, 'ZC-35除尘风机运行频率d'), (0.0, 'PC-37排潮风机运行频率d'), (-0.00024, '锅炉分汽缸压力-薄板D'), (-0.00026, '烘前喂料机提升带速度'), (-0.00034, '2号切丝机运行'), (-0.00059, '制丝高压蒸汽DN200温度-薄板D'), (-0.00098, '膨胀轮电机电流d'), (-0.00131, '气锁电机电流d'), (-0.00179, '风选冷却排潮开度（%）d'), (-0.00192, 'PC-19排潮风机负压值'), (-0.00242, '制丝高压蒸汽DN200干度-薄板D'), (-0.00259, 'KLD一次减压后蒸汽压力（bar）d'), (-0.00267, '制丝高压蒸汽DN200压力-薄板D'), (-0.00346, 'KLD烘后水分（%）d'), (-0.00386, 'KLD排潮风门开度（%）d'), (-0.00895, '风选冷却排潮负压（mbar）d'), (-0.01224, 'KLDD烘丝分汽缸压力'), (-0.0161, '制丝高压蒸汽DN200瞬时流量-薄板D'), (-0.02048, 'KLD热风温度（℃）d'), (-0.02182, 'PC-37排潮风机负压值d'), (-0.02561, '筒体电机电流d'), (-0.03221, 'KLD除水量（l/h）d'), (-0.05617, '冷却温度（℃）d'), (-0.06918, 'KLD1区蒸汽薄膜阀开度（%）d'), (-0.08209, 'KLD热风蒸汽薄膜阀开度（%）d'), (-0.09977, '烘丝筒1区筒壁温度设定'), (-0.15232, 'ZC-36除尘风机负压值d'), (-0.36468, 'KLD热风进筒温度（℃）d'), (-0.60588, 'KLD烘后温度（℃）d'), (-1.06753, '时间'), (-1.92871, '除尘房排潮风门开度d'), (-3.62894, 'KLD烘丝机管道风速差压传感器读数d')]\n"
     ]
    }
   ],
   "source": [
    "\n",
    "for i in range(x.shape[1]):\n",
    "    x_t = x_test.copy()\n",
    "    np.random.shuffle(x_t[:, i])\n",
    "    shuff_acc = mean_absolute_error(y_test,rfr.predict(x_t))\n",
    "    scores[names[i]].append((acc-shuff_acc)/acc)\n",
    "print(sorted([(round(np.mean(score), 5), feat) for feat, score in scores.items()], reverse=True))"
   ]
  },
  {
   "cell_type": "code",
   "execution_count": null,
   "metadata": {},
   "outputs": [],
   "source": [
    "(0.0, '风选冷却排潮开度（%）d'), (0.0, '除尘房除尘风机频率d'), (0.0, '除尘房排潮风机频率(Hz)d'), (-0.0, '锅炉分汽缸压力-薄板D'), (0.0, '排潮风机电机频率d'), \n",
    "(0.0, 'ZC-35除尘风机运行频率d'), (0.0, 'PC-37排潮风机运行频率d'), (-0.0, 'PC-19排潮风机负压值'), (0.0, '2号切丝机运行'),"
   ]
  },
  {
   "cell_type": "code",
   "execution_count": null,
   "metadata": {},
   "outputs": [],
   "source": [
    "(0.0, '除尘房除尘风机频率d'), (0.0, '除尘房排潮风机频率(Hz)d'), (-0.0, '烘前叶丝流量（kg/h）d'), (0.0, '排潮风机电机频率d'), (0.0, 'ZC-35除尘风机运行频率d'),\n",
    "(0.0, 'PC-37排潮风机运行频率d')"
   ]
  },
  {
   "cell_type": "code",
   "execution_count": null,
   "metadata": {},
   "outputs": [],
   "source": [
    "(0.0, '除尘房除尘风机频率d'), (0.0, '除尘房排潮风机频率(Hz)d'), (0.0, '排潮风机电机频率d'), (0.0, 'ZC-35除尘风机运行频率d'), (0.0, 'PC-37排潮风机运行频率d'),"
   ]
  },
  {
   "cell_type": "code",
   "execution_count": 580,
   "metadata": {},
   "outputs": [
    {
     "ename": "KeyError",
     "evalue": "\"None of [Int64Index([ 3408, 13077,  2622,  1464,  1716, 12482,  4288, 15643, 17825,\\n             5324,\\n            ...\\n             8583, 11521, 13145,  3115,  3323, 11185, 20203,  8967,  8100,\\n            13066],\\n           dtype='int64', length=18665)] are in the [columns]\"",
     "output_type": "error",
     "traceback": [
      "\u001b[0;31m---------------------------------------------------------------------------\u001b[0m",
      "\u001b[0;31mKeyError\u001b[0m                                  Traceback (most recent call last)",
      "Cell \u001b[0;32mIn[580], line 11\u001b[0m\n\u001b[1;32m      7\u001b[0m ss \u001b[39m=\u001b[39m ShuffleSplit(\u001b[39m5\u001b[39m)\n\u001b[1;32m      9\u001b[0m \u001b[39mfor\u001b[39;00m train_idx, test_idx \u001b[39min\u001b[39;00m ss\u001b[39m.\u001b[39msplit(x):\n\u001b[1;32m     10\u001b[0m     \u001b[39m# print(train_idx, test_idx)\u001b[39;00m\n\u001b[0;32m---> 11\u001b[0m     x_train, x_test \u001b[39m=\u001b[39m x[train_idx], x[test_idx]\n\u001b[1;32m     12\u001b[0m     y_train,y_test \u001b[39m=\u001b[39m y[train_idx], y[test_idx]\n\u001b[1;32m     13\u001b[0m     x_train \u001b[39m=\u001b[39m scaler\u001b[39m.\u001b[39mfit_transform(x_train, y_train)\n",
      "File \u001b[0;32m/mnt/e/code/offlineRL/revive/lib/python3.8/site-packages/pandas/core/frame.py:3811\u001b[0m, in \u001b[0;36mDataFrame.__getitem__\u001b[0;34m(self, key)\u001b[0m\n\u001b[1;32m   3809\u001b[0m     \u001b[39mif\u001b[39;00m is_iterator(key):\n\u001b[1;32m   3810\u001b[0m         key \u001b[39m=\u001b[39m \u001b[39mlist\u001b[39m(key)\n\u001b[0;32m-> 3811\u001b[0m     indexer \u001b[39m=\u001b[39m \u001b[39mself\u001b[39;49m\u001b[39m.\u001b[39;49mcolumns\u001b[39m.\u001b[39;49m_get_indexer_strict(key, \u001b[39m\"\u001b[39;49m\u001b[39mcolumns\u001b[39;49m\u001b[39m\"\u001b[39;49m)[\u001b[39m1\u001b[39m]\n\u001b[1;32m   3813\u001b[0m \u001b[39m# take() does not accept boolean indexers\u001b[39;00m\n\u001b[1;32m   3814\u001b[0m \u001b[39mif\u001b[39;00m \u001b[39mgetattr\u001b[39m(indexer, \u001b[39m\"\u001b[39m\u001b[39mdtype\u001b[39m\u001b[39m\"\u001b[39m, \u001b[39mNone\u001b[39;00m) \u001b[39m==\u001b[39m \u001b[39mbool\u001b[39m:\n",
      "File \u001b[0;32m/mnt/e/code/offlineRL/revive/lib/python3.8/site-packages/pandas/core/indexes/base.py:6113\u001b[0m, in \u001b[0;36mIndex._get_indexer_strict\u001b[0;34m(self, key, axis_name)\u001b[0m\n\u001b[1;32m   6110\u001b[0m \u001b[39melse\u001b[39;00m:\n\u001b[1;32m   6111\u001b[0m     keyarr, indexer, new_indexer \u001b[39m=\u001b[39m \u001b[39mself\u001b[39m\u001b[39m.\u001b[39m_reindex_non_unique(keyarr)\n\u001b[0;32m-> 6113\u001b[0m \u001b[39mself\u001b[39;49m\u001b[39m.\u001b[39;49m_raise_if_missing(keyarr, indexer, axis_name)\n\u001b[1;32m   6115\u001b[0m keyarr \u001b[39m=\u001b[39m \u001b[39mself\u001b[39m\u001b[39m.\u001b[39mtake(indexer)\n\u001b[1;32m   6116\u001b[0m \u001b[39mif\u001b[39;00m \u001b[39misinstance\u001b[39m(key, Index):\n\u001b[1;32m   6117\u001b[0m     \u001b[39m# GH 42790 - Preserve name from an Index\u001b[39;00m\n",
      "File \u001b[0;32m/mnt/e/code/offlineRL/revive/lib/python3.8/site-packages/pandas/core/indexes/base.py:6173\u001b[0m, in \u001b[0;36mIndex._raise_if_missing\u001b[0;34m(self, key, indexer, axis_name)\u001b[0m\n\u001b[1;32m   6171\u001b[0m     \u001b[39mif\u001b[39;00m use_interval_msg:\n\u001b[1;32m   6172\u001b[0m         key \u001b[39m=\u001b[39m \u001b[39mlist\u001b[39m(key)\n\u001b[0;32m-> 6173\u001b[0m     \u001b[39mraise\u001b[39;00m \u001b[39mKeyError\u001b[39;00m(\u001b[39mf\u001b[39m\u001b[39m\"\u001b[39m\u001b[39mNone of [\u001b[39m\u001b[39m{\u001b[39;00mkey\u001b[39m}\u001b[39;00m\u001b[39m] are in the [\u001b[39m\u001b[39m{\u001b[39;00maxis_name\u001b[39m}\u001b[39;00m\u001b[39m]\u001b[39m\u001b[39m\"\u001b[39m)\n\u001b[1;32m   6175\u001b[0m not_found \u001b[39m=\u001b[39m \u001b[39mlist\u001b[39m(ensure_index(key)[missing_mask\u001b[39m.\u001b[39mnonzero()[\u001b[39m0\u001b[39m]]\u001b[39m.\u001b[39munique())\n\u001b[1;32m   6176\u001b[0m \u001b[39mraise\u001b[39;00m \u001b[39mKeyError\u001b[39;00m(\u001b[39mf\u001b[39m\u001b[39m\"\u001b[39m\u001b[39m{\u001b[39;00mnot_found\u001b[39m}\u001b[39;00m\u001b[39m not in index\u001b[39m\u001b[39m\"\u001b[39m)\n",
      "\u001b[0;31mKeyError\u001b[0m: \"None of [Int64Index([ 3408, 13077,  2622,  1464,  1716, 12482,  4288, 15643, 17825,\\n             5324,\\n            ...\\n             8583, 11521, 13145,  3115,  3323, 11185, 20203,  8967,  8100,\\n            13066],\\n           dtype='int64', length=18665)] are in the [columns]\""
     ]
    }
   ],
   "source": [
    "from sklearn.model_selection import ShuffleSplit\n",
    "from collections import defaultdict\n",
    "from sklearn.metrics import r2_score\n",
    "rfr = RandomForestRegressor()\n",
    "scores = defaultdict(list)\n",
    "scaler = StandardScaler()\n",
    "ss = ShuffleSplit(len(x))\n",
    "\n",
    "for train_idx, test_idx in ss.split(x):\n",
    "    # print(train_idx, test_idx)\n",
    "    x_train, x_test = x[train_idx], x[test_idx]\n",
    "    y_train,y_test = y[train_idx], y[test_idx]\n",
    "    x_train = scaler.fit_transform(x_train, y_train)\n",
    "    r = rfr.fit(x_train, y_train)\n",
    "    acc = r2_score(y_test, rfr.predict(x_test))\n",
    "    for i in range(x.shape[1]):\n",
    "        x_t = x_test.copy()\n",
    "        np.random.shuffle(x_t[:, i])\n",
    "        shuff_acc = r2_score(y_test,rfr.predict(x_t))\n",
    "        scores[names[i]].append((acc-shuff_acc)/acc)\n",
    "print(sorted([(round(np.mean(score), 4), feat) for feat, score in scores.items()], reverse=True))"
   ]
  },
  {
   "cell_type": "code",
   "execution_count": null,
   "metadata": {},
   "outputs": [],
   "source": []
  },
  {
   "cell_type": "code",
   "execution_count": 433,
   "metadata": {},
   "outputs": [
    {
     "name": "stderr",
     "output_type": "stream",
     "text": [
      "/mnt/e/code/offlineRL/revive/lib/python3.8/site-packages/sklearn/utils/validation.py:1143: DataConversionWarning: A column-vector y was passed when a 1d array was expected. Please change the shape of y to (n_samples, ), for example using ravel().\n",
      "  y = column_or_1d(y, warn=True)\n"
     ]
    },
    {
     "data": {
      "text/plain": [
       "0.9338876201627672"
      ]
     },
     "execution_count": 433,
     "metadata": {},
     "output_type": "execute_result"
    }
   ],
   "source": [
    "# 10\n",
    "from sklearn.ensemble import AdaBoostRegressor\n",
    "abr = AdaBoostRegressor()\n",
    "abr_rf = abr.fit(x_train, y_train) #.ravel()\n",
    "abr_pre = abr_rf.predict(x_test)\n",
    "abr_rf.score(x_test, y_test)"
   ]
  },
  {
   "cell_type": "code",
   "execution_count": 434,
   "metadata": {},
   "outputs": [
    {
     "name": "stderr",
     "output_type": "stream",
     "text": [
      "/mnt/e/code/offlineRL/revive/lib/python3.8/site-packages/sklearn/ensemble/_gb.py:437: DataConversionWarning: A column-vector y was passed when a 1d array was expected. Please change the shape of y to (n_samples, ), for example using ravel().\n",
      "  y = column_or_1d(y, warn=True)\n"
     ]
    },
    {
     "data": {
      "text/plain": [
       "0.9338872243476922"
      ]
     },
     "execution_count": 434,
     "metadata": {},
     "output_type": "execute_result"
    }
   ],
   "source": [
    "# 11\n",
    "from sklearn.ensemble import GradientBoostingRegressor\n",
    "gbr = GradientBoostingRegressor()\n",
    "gbr_rf = gbr.fit(x_train, y_train) #.ravel()\n",
    "gbr_pre = gbr_rf.predict(x_test)\n",
    "gbr_rf.score(x_test, y_test)"
   ]
  },
  {
   "cell_type": "code",
   "execution_count": 435,
   "metadata": {},
   "outputs": [
    {
     "name": "stderr",
     "output_type": "stream",
     "text": [
      "/mnt/e/code/offlineRL/revive/lib/python3.8/site-packages/sklearn/ensemble/_bagging.py:508: DataConversionWarning: A column-vector y was passed when a 1d array was expected. Please change the shape of y to (n_samples, ), for example using ravel().\n",
      "  return column_or_1d(y, warn=True)\n"
     ]
    },
    {
     "data": {
      "text/plain": [
       "0.9279334270151522"
      ]
     },
     "execution_count": 435,
     "metadata": {},
     "output_type": "execute_result"
    }
   ],
   "source": [
    "# 12\n",
    "from sklearn.ensemble import BaggingRegressor\n",
    "br = BaggingRegressor()\n",
    "br_rf = br.fit(x_train, y_train)#.ravel()\n",
    "br_pre = br_rf.predict(x_test)\n",
    "br_rf.score(x_test, y_test)"
   ]
  },
  {
   "cell_type": "code",
   "execution_count": 145,
   "metadata": {},
   "outputs": [
    {
     "data": {
      "text/plain": [
       "['scaler.save']"
      ]
     },
     "execution_count": 145,
     "metadata": {},
     "output_type": "execute_result"
    }
   ],
   "source": [
    "import joblib\n",
    "from sklearn.pipeline import make_pipeline\n",
    "scaler_filename = 'scaler.save'\n",
    "joblib.dump(scaler,scaler_filename)"
   ]
  },
  {
   "cell_type": "code",
   "execution_count": 146,
   "metadata": {},
   "outputs": [],
   "source": [
    "s = joblib.load(scaler_filename)"
   ]
  },
  {
   "cell_type": "code",
   "execution_count": null,
   "metadata": {},
   "outputs": [],
   "source": []
  },
  {
   "cell_type": "code",
   "execution_count": 81,
   "metadata": {},
   "outputs": [],
   "source": [
    "scaler_y = StandardScaler()\n",
    "# y_ = np.array(y).reshape(1,-1)\n",
    "# print(y_)\n",
    "y_ = scaler_y.fit_transform(y.values.reshape(1,-1))\n",
    "# print(y_[0])\n",
    "# y_y = scaler_y.inverse_transform(y_)\n",
    "# y_y[0][:100]"
   ]
  },
  {
   "cell_type": "code",
   "execution_count": 133,
   "metadata": {},
   "outputs": [],
   "source": [
    "import os\n",
    "filepath = './mis_data'\n",
    "file = os.listdir(filepath)\n",
    "tes_f = int(len(file) * 0.8)\n",
    "testd = pd.DataFrame()\n",
    "for f in file[:tes_f]:\n",
    "    n = pd.read_csv(os.path.join(filepath, f), encoding='utf-16', sep='\\t')\n",
    "    testd = pd.concat([testd, n])\n",
    "    # print(f)\n",
    "    # break\n"
   ]
  },
  {
   "cell_type": "code",
   "execution_count": 134,
   "metadata": {},
   "outputs": [
    {
     "data": {
      "text/plain": [
       "33204"
      ]
     },
     "execution_count": 134,
     "metadata": {},
     "output_type": "execute_result"
    }
   ],
   "source": [
    "len(testd)"
   ]
  },
  {
   "cell_type": "code",
   "execution_count": null,
   "metadata": {},
   "outputs": [],
   "source": []
  }
 ],
 "metadata": {
  "kernelspec": {
   "display_name": "revive",
   "language": "python",
   "name": "python3"
  },
  "language_info": {
   "codemirror_mode": {
    "name": "ipython",
    "version": 3
   },
   "file_extension": ".py",
   "mimetype": "text/x-python",
   "name": "python",
   "nbconvert_exporter": "python",
   "pygments_lexer": "ipython3",
   "version": "3.8.10"
  },
  "orig_nbformat": 4,
  "vscode": {
   "interpreter": {
    "hash": "eb53a722e4e4f5feb51b3231f36c9cceb8bcb21d8645bd697446809c32cd562d"
   }
  }
 },
 "nbformat": 4,
 "nbformat_minor": 2
}
