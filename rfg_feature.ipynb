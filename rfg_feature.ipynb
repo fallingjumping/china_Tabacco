{
 "cells": [
  {
   "cell_type": "code",
   "execution_count": 29,
   "metadata": {},
   "outputs": [],
   "source": [
    "import pandas as pd\n",
    "import numpy as np"
   ]
  },
  {
   "cell_type": "code",
   "execution_count": 30,
   "metadata": {},
   "outputs": [],
   "source": [
    "# data = pd.read_csv('./test.csv', encoding='utf-16', sep='\\t')\n",
    "data = pd.read_csv('./full_data.csv', encoding='utf-16', sep='\\t')\n",
    "data.drop(columns=['Unnamed: 0'], inplace=True)\n",
    "data.head()\n",
    "num = int(len(data) * 0.5)\n",
    "data = data.iloc[:num,:]\n",
    "# num, data.head()"
   ]
  },
  {
   "cell_type": "code",
   "execution_count": 31,
   "metadata": {},
   "outputs": [
    {
     "data": {
      "text/html": [
       "<div>\n",
       "<style scoped>\n",
       "    .dataframe tbody tr th:only-of-type {\n",
       "        vertical-align: middle;\n",
       "    }\n",
       "\n",
       "    .dataframe tbody tr th {\n",
       "        vertical-align: top;\n",
       "    }\n",
       "\n",
       "    .dataframe thead th {\n",
       "        text-align: right;\n",
       "    }\n",
       "</style>\n",
       "<table border=\"1\" class=\"dataframe\">\n",
       "  <thead>\n",
       "    <tr style=\"text-align: right;\">\n",
       "      <th></th>\n",
       "      <th>KLD烘丝机管道风速差压传感器读数d</th>\n",
       "      <th>KLD热风进筒温度（℃）d</th>\n",
       "      <th>KLD排潮风门开度（%）d</th>\n",
       "      <th>ZC-36除尘风机负压值d</th>\n",
       "      <th>时间</th>\n",
       "      <th>制丝A线烘丝段用蒸汽流量</th>\n",
       "      <th>KLD热风温度（℃）d</th>\n",
       "      <th>烘丝筒1区筒壁温度设定</th>\n",
       "      <th>筒体电机电流d</th>\n",
       "      <th>KLD除水量（l/h）d</th>\n",
       "      <th>KLD热风风门开度（%）d</th>\n",
       "    </tr>\n",
       "  </thead>\n",
       "  <tbody>\n",
       "    <tr>\n",
       "      <th>0</th>\n",
       "      <td>3.295733</td>\n",
       "      <td>99.32887</td>\n",
       "      <td>57.52197</td>\n",
       "      <td>-25.19446</td>\n",
       "      <td>0</td>\n",
       "      <td>1.020120</td>\n",
       "      <td>104.9634</td>\n",
       "      <td>124.0</td>\n",
       "      <td>11.20</td>\n",
       "      <td>0.000000</td>\n",
       "      <td>50.0</td>\n",
       "    </tr>\n",
       "    <tr>\n",
       "      <th>1</th>\n",
       "      <td>3.298391</td>\n",
       "      <td>99.39438</td>\n",
       "      <td>58.10431</td>\n",
       "      <td>-25.19446</td>\n",
       "      <td>10</td>\n",
       "      <td>0.994596</td>\n",
       "      <td>105.0857</td>\n",
       "      <td>124.0</td>\n",
       "      <td>11.03</td>\n",
       "      <td>0.000000</td>\n",
       "      <td>50.0</td>\n",
       "    </tr>\n",
       "    <tr>\n",
       "      <th>2</th>\n",
       "      <td>3.261219</td>\n",
       "      <td>99.40754</td>\n",
       "      <td>56.83694</td>\n",
       "      <td>-25.19446</td>\n",
       "      <td>20</td>\n",
       "      <td>0.989787</td>\n",
       "      <td>105.1195</td>\n",
       "      <td>124.0</td>\n",
       "      <td>11.66</td>\n",
       "      <td>0.000000</td>\n",
       "      <td>50.0</td>\n",
       "    </tr>\n",
       "    <tr>\n",
       "      <th>3</th>\n",
       "      <td>3.300934</td>\n",
       "      <td>99.33324</td>\n",
       "      <td>56.57774</td>\n",
       "      <td>-25.19446</td>\n",
       "      <td>30</td>\n",
       "      <td>1.018579</td>\n",
       "      <td>105.0528</td>\n",
       "      <td>124.0</td>\n",
       "      <td>11.45</td>\n",
       "      <td>0.000000</td>\n",
       "      <td>50.0</td>\n",
       "    </tr>\n",
       "    <tr>\n",
       "      <th>4</th>\n",
       "      <td>3.291326</td>\n",
       "      <td>99.33298</td>\n",
       "      <td>57.34220</td>\n",
       "      <td>-25.19446</td>\n",
       "      <td>40</td>\n",
       "      <td>1.037094</td>\n",
       "      <td>105.0458</td>\n",
       "      <td>124.0</td>\n",
       "      <td>11.25</td>\n",
       "      <td>0.344591</td>\n",
       "      <td>50.0</td>\n",
       "    </tr>\n",
       "  </tbody>\n",
       "</table>\n",
       "</div>"
      ],
      "text/plain": [
       "   KLD烘丝机管道风速差压传感器读数d  KLD热风进筒温度（℃）d  KLD排潮风门开度（%）d  ZC-36除尘风机负压值d  时间  \\\n",
       "0            3.295733       99.32887       57.52197      -25.19446   0   \n",
       "1            3.298391       99.39438       58.10431      -25.19446  10   \n",
       "2            3.261219       99.40754       56.83694      -25.19446  20   \n",
       "3            3.300934       99.33324       56.57774      -25.19446  30   \n",
       "4            3.291326       99.33298       57.34220      -25.19446  40   \n",
       "\n",
       "   制丝A线烘丝段用蒸汽流量  KLD热风温度（℃）d  烘丝筒1区筒壁温度设定  筒体电机电流d  KLD除水量（l/h）d  \\\n",
       "0      1.020120     104.9634        124.0    11.20      0.000000   \n",
       "1      0.994596     105.0857        124.0    11.03      0.000000   \n",
       "2      0.989787     105.1195        124.0    11.66      0.000000   \n",
       "3      1.018579     105.0528        124.0    11.45      0.000000   \n",
       "4      1.037094     105.0458        124.0    11.25      0.344591   \n",
       "\n",
       "   KLD热风风门开度（%）d  \n",
       "0           50.0  \n",
       "1           50.0  \n",
       "2           50.0  \n",
       "3           50.0  \n",
       "4           50.0  "
      ]
     },
     "execution_count": 31,
     "metadata": {},
     "output_type": "execute_result"
    }
   ],
   "source": [
    "fd = data.loc[:,['KLD烘丝机管道风速差压传感器读数d','KLD热风进筒温度（℃）d','KLD排潮风门开度（%）d','ZC-36除尘风机负压值d',\n",
    "'时间','制丝A线烘丝段用蒸汽流量','KLD热风温度（℃）d','烘丝筒1区筒壁温度设定','筒体电机电流d','KLD除水量（l/h）d','KLD热风风门开度（%）d']]\n",
    "fd.head()"
   ]
  },
  {
   "cell_type": "code",
   "execution_count": 32,
   "metadata": {},
   "outputs": [
    {
     "data": {
      "text/plain": [
       "(20739, 11)"
      ]
     },
     "execution_count": 32,
     "metadata": {},
     "output_type": "execute_result"
    }
   ],
   "source": [
    "from sklearn.utils import shuffle\n",
    "fd = shuffle(fd, n_samples=len(fd))\n",
    "fd.shape"
   ]
  },
  {
   "cell_type": "code",
   "execution_count": 33,
   "metadata": {},
   "outputs": [
    {
     "data": {
      "text/plain": [
       "((20739, 11), numpy.ndarray)"
      ]
     },
     "execution_count": 33,
     "metadata": {},
     "output_type": "execute_result"
    }
   ],
   "source": [
    "from sklearn.preprocessing import StandardScaler\n",
    "scaler = StandardScaler()\n",
    "fd = scaler.fit_transform(fd)\n",
    "\n",
    "fd.shape, type(fd)"
   ]
  },
  {
   "cell_type": "code",
   "execution_count": 34,
   "metadata": {},
   "outputs": [
    {
     "data": {
      "text/plain": [
       "((20739, 10), (20739, 1))"
      ]
     },
     "execution_count": 34,
     "metadata": {},
     "output_type": "execute_result"
    }
   ],
   "source": [
    "x = np.delete(fd,10,axis=1)\n",
    "y = fd[:,10].reshape((-1,1))\n",
    "x.shape, y.shape"
   ]
  },
  {
   "cell_type": "code",
   "execution_count": 35,
   "metadata": {},
   "outputs": [
    {
     "data": {
      "text/plain": [
       "16591"
      ]
     },
     "execution_count": 35,
     "metadata": {},
     "output_type": "execute_result"
    }
   ],
   "source": [
    "from sklearn.model_selection import train_test_split\n",
    "x_train, x_test, y_train, y_test = train_test_split(x, y, test_size=0.2)\n",
    "len(x_train)"
   ]
  },
  {
   "cell_type": "code",
   "execution_count": 36,
   "metadata": {},
   "outputs": [
    {
     "data": {
      "text/plain": [
       "0.9006001184894363"
      ]
     },
     "execution_count": 36,
     "metadata": {},
     "output_type": "execute_result"
    }
   ],
   "source": [
    "from sklearn.linear_model import LinearRegression\n",
    "clf = LinearRegression()\n",
    "rf = clf.fit(x_train, y_train)\n",
    "y_pred = rf.predict(x_test)\n",
    "rf.score(x_test, y_test)"
   ]
  },
  {
   "cell_type": "code",
   "execution_count": null,
   "metadata": {},
   "outputs": [],
   "source": []
  }
 ],
 "metadata": {
  "kernelspec": {
   "display_name": "revive",
   "language": "python",
   "name": "python3"
  },
  "language_info": {
   "codemirror_mode": {
    "name": "ipython",
    "version": 3
   },
   "file_extension": ".py",
   "mimetype": "text/x-python",
   "name": "python",
   "nbconvert_exporter": "python",
   "pygments_lexer": "ipython3",
   "version": "3.8.10"
  },
  "orig_nbformat": 4,
  "vscode": {
   "interpreter": {
    "hash": "eb53a722e4e4f5feb51b3231f36c9cceb8bcb21d8645bd697446809c32cd562d"
   }
  }
 },
 "nbformat": 4,
 "nbformat_minor": 2
}
