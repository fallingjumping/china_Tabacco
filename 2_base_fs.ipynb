{
 "cells": [
  {
   "cell_type": "code",
   "execution_count": 43,
   "metadata": {},
   "outputs": [],
   "source": [
    "import pandas as pd\n",
    "import os\n",
    "import copy\n",
    "\n",
    "from sklearn.feature_selection import VarianceThreshold\n",
    "from sklearn.model_selection import train_test_split\n",
    "\n",
    "from ydata_profiling import ProfileReport"
   ]
  },
  {
   "cell_type": "code",
   "execution_count": 55,
   "metadata": {},
   "outputs": [
    {
     "name": "stderr",
     "output_type": "stream",
     "text": [
      "C:\\Users\\chenying.wu\\AppData\\Local\\Temp\\ipykernel_20644\\1033671421.py:13: SettingWithCopyWarning: \n",
      "A value is trying to be set on a copy of a slice from a DataFrame\n",
      "\n",
      "See the caveats in the documentation: https://pandas.pydata.org/pandas-docs/stable/user_guide/indexing.html#returning-a-view-versus-a-copy\n",
      "  data.dropna(axis=1,inplace=True)\n",
      "C:\\Users\\chenying.wu\\AppData\\Local\\Temp\\ipykernel_20644\\1033671421.py:14: SettingWithCopyWarning: \n",
      "A value is trying to be set on a copy of a slice from a DataFrame\n",
      "\n",
      "See the caveats in the documentation: https://pandas.pydata.org/pandas-docs/stable/user_guide/indexing.html#returning-a-view-versus-a-copy\n",
      "  data.drop(columns=['Unnamed: 0'], inplace=True)\n"
     ]
    }
   ],
   "source": [
    "full_data = pd.DataFrame()\n",
    "filename = './data/mis_data/'\n",
    "filelist = os.listdir(filename)\n",
    "for f in filelist:\n",
    "    df = pd.read_csv(os.path.join(filename,f),encoding='utf-16',sep='\\t')\n",
    "    df['时间'] = df['时间'].astype('datetime64[ns]')\n",
    "    df['时间'] = df[['时间']].apply(lambda x: x[0].timestamp(), axis=1).astype(int)\n",
    "    # data['时间'] = data['时间'].astype('int64') // 10**9\n",
    "    df['时间'] = (df['时间'] - df['时间'][0])/10\n",
    "    full_data = pd.concat([full_data, df], axis=0)\n",
    "full_data.reset_index(drop=True, inplace=True)\n",
    "data = full_data.iloc[:int(len(full_data) * 0.5),:]\n",
    "data.dropna(axis=1,inplace=True)\n",
    "data.drop(columns=['Unnamed: 0'], inplace=True)"
   ]
  },
  {
   "cell_type": "code",
   "execution_count": 59,
   "metadata": {},
   "outputs": [
    {
     "data": {
      "text/plain": [
       "[]"
      ]
     },
     "execution_count": 59,
     "metadata": {},
     "output_type": "execute_result"
    }
   ],
   "source": [
    "import re\n",
    "drop_col = []\n",
    "coli = data.columns.to_list()\n",
    "for c in coli:\n",
    "    if re.match('(?=1区)', c):\n",
    "        drop_col.append(c)\n",
    "drop_col"
   ]
  },
  {
   "cell_type": "code",
   "execution_count": null,
   "metadata": {},
   "outputs": [],
   "source": []
  },
  {
   "cell_type": "code",
   "execution_count": 25,
   "metadata": {},
   "outputs": [
    {
     "data": {
      "text/plain": [
       "((20739, 107), (20739,))"
      ]
     },
     "execution_count": 25,
     "metadata": {},
     "output_type": "execute_result"
    }
   ],
   "source": [
    "y = data['KLD热风风门开度（%）d']\n",
    "x = data.drop(columns=['KLD热风风门开度（%）d'])\n",
    "x.shape, y.shape"
   ]
  },
  {
   "cell_type": "code",
   "execution_count": 29,
   "metadata": {},
   "outputs": [],
   "source": [
    "x_train, x_test, y_train, y_test = train_test_split(x, y, test_size=0.2,shuffle=True)"
   ]
  },
  {
   "attachments": {},
   "cell_type": "markdown",
   "metadata": {},
   "source": [
    "已经知道 烟丝的流量，烘干前的水分、温度，是对烘干过程产生影响的\n",
    "\""
   ]
  },
  {
   "cell_type": "code",
   "execution_count": null,
   "metadata": {},
   "outputs": [],
   "source": [
    "\n"
   ]
  },
  {
   "cell_type": "code",
   "execution_count": null,
   "metadata": {},
   "outputs": [],
   "source": [
    "# data type are numeric types"
   ]
  },
  {
   "cell_type": "code",
   "execution_count": 53,
   "metadata": {},
   "outputs": [
    {
     "data": {
      "text/plain": [
       "37"
      ]
     },
     "execution_count": 53,
     "metadata": {},
     "output_type": "execute_result"
    }
   ],
   "source": [
    "data.columns.get_loc('KLD热风风门开度（%）d')"
   ]
  },
  {
   "cell_type": "code",
   "execution_count": 54,
   "metadata": {},
   "outputs": [
    {
     "name": "stdout",
     "output_type": "stream",
     "text": [
      "19.91732693706346\n"
     ]
    }
   ],
   "source": [
    "variance = VarianceThreshold(threshold = (.988 * (1 - .9)))\n",
    "variance.fit(data)\n",
    "print(variance.variances_[37])\n",
    "\n",
    "var_col = variance.get_feature_names_out().tolist()\n",
    "data = data[var_col]\n",
    "# data.shape"
   ]
  },
  {
   "cell_type": "code",
   "execution_count": 51,
   "metadata": {},
   "outputs": [
    {
     "data": {
      "text/plain": [
       "0        50.00000\n",
       "1        50.00000\n",
       "2        50.00000\n",
       "3        50.00000\n",
       "4        50.00000\n",
       "           ...   \n",
       "20734    48.07595\n",
       "20735    48.19509\n",
       "20736    48.18465\n",
       "20737    47.99847\n",
       "20738    47.72388\n",
       "Name: KLD热风风门开度（%）d, Length: 20739, dtype: float64"
      ]
     },
     "execution_count": 51,
     "metadata": {},
     "output_type": "execute_result"
    }
   ],
   "source": [
    "data['KLD热风风门开度（%）d']"
   ]
  },
  {
   "cell_type": "code",
   "execution_count": null,
   "metadata": {},
   "outputs": [],
   "source": [
    "# deal with muticollinearity"
   ]
  },
  {
   "cell_type": "code",
   "execution_count": 46,
   "metadata": {},
   "outputs": [],
   "source": [
    "profile = ProfileReport(x_train, title=\"Profiling Report\",html = {'style': {'full_width': True }})\n",
    "profile"
   ]
  }
 ],
 "metadata": {
  "kernelspec": {
   "display_name": "venv",
   "language": "python",
   "name": "python3"
  },
  "language_info": {
   "codemirror_mode": {
    "name": "ipython",
    "version": 3
   },
   "file_extension": ".py",
   "mimetype": "text/x-python",
   "name": "python",
   "nbconvert_exporter": "python",
   "pygments_lexer": "ipython3",
   "version": "3.8.10"
  },
  "orig_nbformat": 4,
  "vscode": {
   "interpreter": {
    "hash": "a30998abf361fc6e144ed590788608468acb25fed016a5da90cd5a9cea7e2526"
   }
  }
 },
 "nbformat": 4,
 "nbformat_minor": 2
}
