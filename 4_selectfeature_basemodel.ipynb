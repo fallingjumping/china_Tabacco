{
 "cells": [
  {
   "cell_type": "code",
   "execution_count": 114,
   "metadata": {},
   "outputs": [],
   "source": [
    "import pandas as pd\n",
    "import numpy as np\n",
    "import copy\n",
    "# from sklearn.model_selection import"
   ]
  },
  {
   "attachments": {},
   "cell_type": "markdown",
   "metadata": {},
   "source": [
    "load data"
   ]
  },
  {
   "cell_type": "code",
   "execution_count": 115,
   "metadata": {},
   "outputs": [],
   "source": [
    "# full_data分为 测试数据和验证数据 test_data，vali_data\n",
    "df = pd.read_csv('./data/full_data.csv', encoding='utf-16', sep='\\t')\n",
    "df.drop(columns=['Unnamed: 0'], inplace=True)\n",
    "num = int(len(df) * 0.5)\n",
    "test_data = df.iloc[:num,:]\n",
    "# test_data.to_csv('./data/test_data.csv',encoding='utf-16', sep='\\t')\n",
    "vali_data = df.iloc[num:, :]\n",
    "# vali_data = vali_data.to_csv('./data/vali_data.csv', encoding='utf-16', sep='\\t')"
   ]
  },
  {
   "cell_type": "code",
   "execution_count": 116,
   "metadata": {},
   "outputs": [],
   "source": [
    "# 用 test_data 训练\n",
    "data = copy.deepcopy(test_data)\n",
    "# data.head()\n",
    "data.shape\n",
    "col_names = data.columns.to_list()\n",
    "colidx_y = data.columns.get_loc('KLD热风风门开度（%）d')\n",
    "corr = data.corr()"
   ]
  },
  {
   "attachments": {},
   "cell_type": "markdown",
   "metadata": {},
   "source": [
    "split data into trainintg sets, test sets, cross-validate sets"
   ]
  },
  {
   "cell_type": "code",
   "execution_count": 17,
   "metadata": {},
   "outputs": [],
   "source": [
    "from sklearn.model_selection import train_test_split\n",
    "from sklearn.utils import shuffle"
   ]
  },
  {
   "cell_type": "code",
   "execution_count": 117,
   "metadata": {},
   "outputs": [
    {
     "data": {
      "text/plain": [
       "((20739, 39), (20739, 1))"
      ]
     },
     "execution_count": 117,
     "metadata": {},
     "output_type": "execute_result"
    }
   ],
   "source": [
    "# data = shuffle(data, n_samples=len(data))\n",
    "\n",
    "y = data.loc[:,['KLD热风风门开度（%）d']]\n",
    "x = data.drop(columns=['KLD热风风门开度（%）d'])\n",
    "x.shape, y.shape"
   ]
  },
  {
   "cell_type": "code",
   "execution_count": 118,
   "metadata": {},
   "outputs": [],
   "source": [
    "x_train, x_validate_test, y_train, y_validate_test = train_test_split(x, y, test_size=0.2, random_state = 42, shuffle=True)\n",
    "x_validate, x_test, y_validate, y_test = train_test_split(x_validate_test, y_validate_test, test_size=0.5, random_state=42, shuffle=True)"
   ]
  },
  {
   "cell_type": "code",
   "execution_count": 25,
   "metadata": {},
   "outputs": [
    {
     "data": {
      "text/plain": [
       "((16591, 39), (2074, 39), (2074, 39), (16591, 1))"
      ]
     },
     "execution_count": 25,
     "metadata": {},
     "output_type": "execute_result"
    }
   ],
   "source": [
    "x_train.shape, x_validate.shape, x_test.shape,y_train.shape"
   ]
  },
  {
   "attachments": {},
   "cell_type": "markdown",
   "metadata": {},
   "source": [
    "feature selection"
   ]
  },
  {
   "cell_type": "code",
   "execution_count": 101,
   "metadata": {},
   "outputs": [],
   "source": [
    "from sklearn.feature_selection import SelectKBest\n",
    "from scipy.stats import pearsonr\n",
    "from sklearn.feature_selection import f_regression, mutual_info_regression\n",
    "\n",
    "from sklearn .feature_selection import RFE\n",
    "from sklearn.linear_model import LinearRegression\n",
    "from sklearn.neighbors import KNeighborsRegressor\n",
    "from sklearn.svm import SVR\n",
    "from sklearn.ensemble import RandomForestRegressor"
   ]
  },
  {
   "cell_type": "code",
   "execution_count": 124,
   "metadata": {},
   "outputs": [
    {
     "name": "stderr",
     "output_type": "stream",
     "text": [
      "e:\\code\\china_tobacco\\venv\\lib\\site-packages\\sklearn\\utils\\validation.py:1143: DataConversionWarning: A column-vector y was passed when a 1d array was expected. Please change the shape of y to (n_samples, ), for example using ravel().\n",
      "  y = column_or_1d(y, warn=True)\n"
     ]
    },
    {
     "data": {
      "text/plain": [
       "Index(['时间', 'KLD1区蒸汽薄膜阀开度（%）d', 'KLD一次减压后蒸汽压力（bar）d', 'KLD烘丝机管道风速差压传感器读数d',\n",
       "       'KLD烘后温度（℃）d', 'KLD热风蒸汽薄膜阀开度（%）d', 'KLD热风进筒温度（℃）d', 'KLD除水量（l/h）d',\n",
       "       'PC-37排潮风机负压值d', 'ZC-36除尘风机负压值d', '冷却温度（℃）d', '制丝高压蒸汽DN200干度-薄板D',\n",
       "       '烘丝筒1区筒壁温度设定', '除尘房排潮风门开度d', '风选冷却排潮负压（mbar）d'],\n",
       "      dtype='object')"
      ]
     },
     "execution_count": 124,
     "metadata": {},
     "output_type": "execute_result"
    }
   ],
   "source": [
    "# x_train = np.array(x_train)\n",
    "# y_train = np.array(y_train)\n",
    "# r,p = pearsonr(x_train, y_train)\n",
    "x_new = SelectKBest(mutual_info_regression, k=15).fit(x_train, y_train)\n",
    "x_new_c = x_new.get_support(indices=True)\n",
    "x_train.iloc[:,x_new_c].columns"
   ]
  },
  {
   "cell_type": "code",
   "execution_count": 121,
   "metadata": {},
   "outputs": [
    {
     "data": {
      "text/plain": [
       "(array([0.17215724, 0.01244528, 0.16759309, 0.04041548, 0.12608986,\n",
       "        0.06515049, 0.16981249, 0.05892385, 0.11859043, 0.01714471,\n",
       "        0.09278146, 0.15028936, 0.08923075, 0.0257294 , 0.12140335,\n",
       "        0.00483457, 0.0029375 , 0.13587469, 0.10733172, 0.03320424,\n",
       "        0.08203917, 0.0040546 , 0.04195936, 0.02920418, 0.00307371,\n",
       "        0.00508508, 0.15130775, 0.03079796, 0.01714894, 0.03612184,\n",
       "        0.        , 0.03124018, 0.00781395, 0.00189467, 0.00412953,\n",
       "        0.13723082, 0.00309681, 0.02838441, 0.08261134]),\n",
       " None)"
      ]
     },
     "execution_count": 121,
     "metadata": {},
     "output_type": "execute_result"
    }
   ],
   "source": [
    "x_new.scores_"
   ]
  },
  {
   "cell_type": "code",
   "execution_count": null,
   "metadata": {},
   "outputs": [],
   "source": [
    "['时间', 'KLD1区蒸汽薄膜阀开度（%）d', 'KLDD烘丝分汽缸压力', 'KLD一次减压后蒸汽压力（bar）d',\n",
    "       'KLD排潮风门开度（%）d', 'KLD烘丝机管道风速差压传感器读数d', 'KLD烘后水分（%）d', 'KLD烘后温度（℃）d',\n",
    "       'KLD热风蒸汽薄膜阀开度（%）d', 'KLD热风进筒温度（℃）d', 'KLD除水量（l/h）d', 'PC-37排潮风机负压值d',\n",
    "       'ZC-36除尘风机负压值d', '冷却温度（℃）d', '制丝高压蒸汽DN200干度-薄板D', '制丝高压蒸汽DN200瞬时流量-薄板D',\n",
    "       '烘丝筒1区筒壁温度设定', '烘前水分（%）d', '除尘房排潮风门开度d', '风选冷却排潮负压（mbar）d']"
   ]
  },
  {
   "cell_type": "code",
   "execution_count": 102,
   "metadata": {},
   "outputs": [
    {
     "name": "stderr",
     "output_type": "stream",
     "text": [
      "e:\\code\\china_tobacco\\venv\\lib\\site-packages\\sklearn\\feature_selection\\_rfe.py:299: DataConversionWarning: A column-vector y was passed when a 1d array was expected. Please change the shape of y to (n_samples,), for example using ravel().\n",
      "  estimator.fit(X[:, features], y, **fit_params)\n",
      "e:\\code\\china_tobacco\\venv\\lib\\site-packages\\sklearn\\feature_selection\\_rfe.py:299: DataConversionWarning: A column-vector y was passed when a 1d array was expected. Please change the shape of y to (n_samples,), for example using ravel().\n",
      "  estimator.fit(X[:, features], y, **fit_params)\n",
      "e:\\code\\china_tobacco\\venv\\lib\\site-packages\\sklearn\\feature_selection\\_rfe.py:299: DataConversionWarning: A column-vector y was passed when a 1d array was expected. Please change the shape of y to (n_samples,), for example using ravel().\n",
      "  estimator.fit(X[:, features], y, **fit_params)\n",
      "e:\\code\\china_tobacco\\venv\\lib\\site-packages\\sklearn\\feature_selection\\_rfe.py:299: DataConversionWarning: A column-vector y was passed when a 1d array was expected. Please change the shape of y to (n_samples,), for example using ravel().\n",
      "  estimator.fit(X[:, features], y, **fit_params)\n",
      "e:\\code\\china_tobacco\\venv\\lib\\site-packages\\sklearn\\feature_selection\\_rfe.py:299: DataConversionWarning: A column-vector y was passed when a 1d array was expected. Please change the shape of y to (n_samples,), for example using ravel().\n",
      "  estimator.fit(X[:, features], y, **fit_params)\n",
      "e:\\code\\china_tobacco\\venv\\lib\\site-packages\\sklearn\\feature_selection\\_rfe.py:299: DataConversionWarning: A column-vector y was passed when a 1d array was expected. Please change the shape of y to (n_samples,), for example using ravel().\n",
      "  estimator.fit(X[:, features], y, **fit_params)\n",
      "e:\\code\\china_tobacco\\venv\\lib\\site-packages\\sklearn\\feature_selection\\_rfe.py:299: DataConversionWarning: A column-vector y was passed when a 1d array was expected. Please change the shape of y to (n_samples,), for example using ravel().\n",
      "  estimator.fit(X[:, features], y, **fit_params)\n",
      "e:\\code\\china_tobacco\\venv\\lib\\site-packages\\sklearn\\feature_selection\\_rfe.py:299: DataConversionWarning: A column-vector y was passed when a 1d array was expected. Please change the shape of y to (n_samples,), for example using ravel().\n",
      "  estimator.fit(X[:, features], y, **fit_params)\n",
      "e:\\code\\china_tobacco\\venv\\lib\\site-packages\\sklearn\\feature_selection\\_rfe.py:299: DataConversionWarning: A column-vector y was passed when a 1d array was expected. Please change the shape of y to (n_samples,), for example using ravel().\n",
      "  estimator.fit(X[:, features], y, **fit_params)\n",
      "e:\\code\\china_tobacco\\venv\\lib\\site-packages\\sklearn\\feature_selection\\_rfe.py:299: DataConversionWarning: A column-vector y was passed when a 1d array was expected. Please change the shape of y to (n_samples,), for example using ravel().\n",
      "  estimator.fit(X[:, features], y, **fit_params)\n",
      "e:\\code\\china_tobacco\\venv\\lib\\site-packages\\sklearn\\feature_selection\\_rfe.py:299: DataConversionWarning: A column-vector y was passed when a 1d array was expected. Please change the shape of y to (n_samples,), for example using ravel().\n",
      "  estimator.fit(X[:, features], y, **fit_params)\n",
      "e:\\code\\china_tobacco\\venv\\lib\\site-packages\\sklearn\\feature_selection\\_rfe.py:299: DataConversionWarning: A column-vector y was passed when a 1d array was expected. Please change the shape of y to (n_samples,), for example using ravel().\n",
      "  estimator.fit(X[:, features], y, **fit_params)\n",
      "e:\\code\\china_tobacco\\venv\\lib\\site-packages\\sklearn\\feature_selection\\_rfe.py:299: DataConversionWarning: A column-vector y was passed when a 1d array was expected. Please change the shape of y to (n_samples,), for example using ravel().\n",
      "  estimator.fit(X[:, features], y, **fit_params)\n",
      "e:\\code\\china_tobacco\\venv\\lib\\site-packages\\sklearn\\feature_selection\\_rfe.py:299: DataConversionWarning: A column-vector y was passed when a 1d array was expected. Please change the shape of y to (n_samples,), for example using ravel().\n",
      "  estimator.fit(X[:, features], y, **fit_params)\n",
      "e:\\code\\china_tobacco\\venv\\lib\\site-packages\\sklearn\\feature_selection\\_rfe.py:299: DataConversionWarning: A column-vector y was passed when a 1d array was expected. Please change the shape of y to (n_samples,), for example using ravel().\n",
      "  estimator.fit(X[:, features], y, **fit_params)\n",
      "e:\\code\\china_tobacco\\venv\\lib\\site-packages\\sklearn\\feature_selection\\_rfe.py:299: DataConversionWarning: A column-vector y was passed when a 1d array was expected. Please change the shape of y to (n_samples,), for example using ravel().\n",
      "  estimator.fit(X[:, features], y, **fit_params)\n",
      "e:\\code\\china_tobacco\\venv\\lib\\site-packages\\sklearn\\feature_selection\\_rfe.py:299: DataConversionWarning: A column-vector y was passed when a 1d array was expected. Please change the shape of y to (n_samples,), for example using ravel().\n",
      "  estimator.fit(X[:, features], y, **fit_params)\n",
      "e:\\code\\china_tobacco\\venv\\lib\\site-packages\\sklearn\\feature_selection\\_rfe.py:299: DataConversionWarning: A column-vector y was passed when a 1d array was expected. Please change the shape of y to (n_samples,), for example using ravel().\n",
      "  estimator.fit(X[:, features], y, **fit_params)\n",
      "e:\\code\\china_tobacco\\venv\\lib\\site-packages\\sklearn\\feature_selection\\_rfe.py:299: DataConversionWarning: A column-vector y was passed when a 1d array was expected. Please change the shape of y to (n_samples,), for example using ravel().\n",
      "  estimator.fit(X[:, features], y, **fit_params)\n",
      "e:\\code\\china_tobacco\\venv\\lib\\site-packages\\sklearn\\feature_selection\\_rfe.py:326: DataConversionWarning: A column-vector y was passed when a 1d array was expected. Please change the shape of y to (n_samples,), for example using ravel().\n",
      "  self.estimator_.fit(X[:, features], y, **fit_params)\n"
     ]
    }
   ],
   "source": [
    "# 递归特征消除\n",
    "rfe = RFE(estimator=RandomForestRegressor(), n_features_to_select=20)\n",
    "rfe.fit_transform(x_train, y_train)\n",
    "new_xc = rfe.support_\n",
    "new_xc = rfe.ranking_"
   ]
  },
  {
   "cell_type": "code",
   "execution_count": 125,
   "metadata": {},
   "outputs": [
    {
     "data": {
      "text/plain": [
       "31"
      ]
     },
     "execution_count": 125,
     "metadata": {},
     "output_type": "execute_result"
    }
   ],
   "source": [
    "list = ['时间', 'KLD1区蒸汽薄膜阀开度（%）d', 'KLD一次减压后蒸汽压力（bar）d', 'KLD排潮风门开度（%）d',\n",
    "       'KLD烘丝机管道风速差压传感器读数d', 'KLD烘后水分（%）d', 'KLD烘后温度（℃）d', 'KLD热风蒸汽薄膜阀开度（%）d',\n",
    "       'KLD热风进筒温度（℃）d', 'KLD除水量（l/h）d', 'PC-37排潮风机负压值d', 'ZC-36除尘风机负压值d',\n",
    "       '冷却温度（℃）d', '制丝高压蒸汽DN200干度-薄板D', '制丝高压蒸汽DN200瞬时流量-薄板D', '烘丝筒1区筒壁温度设定',\n",
    "       '烘前水分（%）d', '筒体电机电流d', '除尘房排潮风门开度d', '风选冷却排潮负压（mbar）d',\n",
    "       \n",
    "       'KLD热风温度（℃）d',\n",
    "\n",
    "       'KLD热风温度（℃）d','烘前叶丝流量（kg/h）d','烘前喂料机提升带速度',\n",
    "       'KLDD烘丝分汽缸压力','制丝高压蒸汽DN200压力-薄板D','排潮风机电机电流d','气锁电机电流d','膨胀轮电机电流d','锅炉分汽缸压力-薄板D','风选冷却排潮开度（%）d']\n",
    "len(list)"
   ]
  },
  {
   "cell_type": "code",
   "execution_count": null,
   "metadata": {},
   "outputs": [],
   "source": [
    "col = ['除尘房除尘风机频率d', '除尘房排潮风机频率(Hz)d', '排潮风机电机频率d', 'ZC-35除尘风机运行频率d','PC-37排潮风机运行频率d']"
   ]
  },
  {
   "cell_type": "code",
   "execution_count": 103,
   "metadata": {},
   "outputs": [
    {
     "name": "stdout",
     "output_type": "stream",
     "text": [
      "时间\n",
      "KLD1区蒸汽薄膜阀开度（%）d\n",
      "KLD排潮风门开度（%）d\n",
      "KLD烘丝机管道风速差压传感器读数d\n",
      "KLD烘后水分（%）d\n",
      "KLD烘后温度（℃）d\n",
      "KLD热风温度（℃）d\n",
      "KLD热风进筒温度（℃）d\n",
      "KLD除水量（l/h）d\n",
      "PC-37排潮风机负压值d\n",
      "ZC-36除尘风机负压值d\n",
      "冷却温度（℃）d\n",
      "制丝高压蒸汽DN200干度-薄板D\n",
      "制丝高压蒸汽DN200温度-薄板D\n",
      "烘丝筒1区筒壁温度设定\n",
      "烘前叶丝流量（kg/h）d\n",
      "烘前喂料机提升带速度\n",
      "筒体电机电流d\n",
      "除尘房排潮风门开度d\n",
      "风选冷却排潮负压（mbar）d\n"
     ]
    }
   ],
   "source": [
    "index = np.where(new_xc==1)\n",
    "list = []\n",
    "for i in index[0]:\n",
    "    print(col_names[i])"
   ]
  },
  {
   "cell_type": "code",
   "execution_count": 92,
   "metadata": {},
   "outputs": [
    {
     "name": "stdout",
     "output_type": "stream",
     "text": [
      "KLD1区蒸汽薄膜阀开度（%）d\n",
      "KLDD烘丝分汽缸压力\n",
      "KLD一次减压后蒸汽压力（bar）d\n",
      "KLD排潮风门开度（%）d\n",
      "KLD烘丝机管道风速差压传感器读数d\n",
      "KLD烘后水分（%）d\n",
      "KLD热风温度（℃）d\n",
      "KLD热风蒸汽薄膜阀开度（%）d\n",
      "KLD热风进筒温度（℃）d\n",
      "PC-37排潮风机负压值d\n",
      "ZC-36除尘风机负压值d\n",
      "冷却温度（℃）d\n",
      "制丝高压蒸汽DN200压力-薄板D\n",
      "制丝高压蒸汽DN200干度-薄板D\n",
      "排潮风机电机电流d\n",
      "气锁电机电流d\n",
      "膨胀轮电机电流d\n",
      "锅炉分汽缸压力-薄板D\n",
      "除尘房排潮风门开度d\n",
      "风选冷却排潮开度（%）d\n"
     ]
    }
   ],
   "source": [
    "index = np.where(new_xc==1)\n",
    "list = []\n",
    "for i in index[0]:\n",
    "    print(col_names[i])"
   ]
  },
  {
   "cell_type": "code",
   "execution_count": 111,
   "metadata": {},
   "outputs": [
    {
     "data": {
      "text/plain": [
       "KLD热风风门开度（%）d          1.000000\n",
       "KLD烘丝机管道风速差压传感器读数d     0.890765\n",
       "除尘房排潮风门开度d             0.741331\n",
       "ZC-36除尘风机负压值d          0.586022\n",
       "KLD1区蒸汽薄膜阀开度（%）d       0.434738\n",
       "KLD热风进筒温度（℃）d          0.378082\n",
       "冷却温度（℃）d               0.331766\n",
       "风选冷却排潮负压（mbar）d        0.278328\n",
       "KLD烘后温度（℃）d            0.240865\n",
       "PC-37排潮风机负压值d          0.226142\n",
       "烘丝筒1区筒壁温度设定            0.216435\n",
       "KLD一次减压后蒸汽压力（bar）d     0.205111\n",
       "时间                     0.152828\n",
       "KLD热风温度（℃）d            0.101535\n",
       "KLDD烘丝分汽缸压力            0.062784\n",
       "排潮风机电机电流d              0.056167\n",
       "KLD热风蒸汽薄膜阀开度（%）d       0.056042\n",
       "制丝高压蒸汽DN200干度-薄板D      0.042152\n",
       "筒体电机电流d                0.040623\n",
       "膨胀轮电机电流d               0.034199\n",
       "烘前叶丝流量（kg/h）d          0.033796\n",
       "制丝高压蒸汽DN200瞬时流量-薄板D    0.032185\n",
       "KLD除水量（l/h）d           0.027081\n",
       "PC-19排潮风机负压值           0.020214\n",
       "制丝高压蒸汽DN200压力-薄板D      0.019387\n",
       "KLD烘后水分（%）d            0.018700\n",
       "锅炉分汽缸压力-薄板D            0.015807\n",
       "烘前喂料机提升带速度             0.008536\n",
       "烘前水分（%）d               0.006098\n",
       "风选冷却排潮开度（%）d           0.006012\n",
       "2号切丝机运行                0.005513\n",
       "制丝高压蒸汽DN200温度-薄板D      0.003478\n",
       "热风电机电流d                0.003140\n",
       "气锁电机电流d                0.001376\n",
       "KLD排潮风门开度（%）d          0.000837\n",
       "PC-37排潮风机运行频率d              NaN\n",
       "ZC-35除尘风机运行频率d              NaN\n",
       "排潮风机电机频率d                   NaN\n",
       "除尘房排潮风机频率(Hz)d              NaN\n",
       "除尘房除尘风机频率d                  NaN\n",
       "Name: KLD热风风门开度（%）d, dtype: float64"
      ]
     },
     "execution_count": 111,
     "metadata": {},
     "output_type": "execute_result"
    }
   ],
   "source": [
    "abs(corr['KLD热风风门开度（%）d']).sort_values(ascending=False)"
   ]
  },
  {
   "cell_type": "code",
   "execution_count": 113,
   "metadata": {},
   "outputs": [
    {
     "data": {
      "text/plain": [
       "KLD烘丝机管道风速差压传感器读数d     1.000000\n",
       "KLD热风风门开度（%）d          0.890765\n",
       "除尘房排潮风门开度d             0.723192\n",
       "ZC-36除尘风机负压值d          0.588616\n",
       "KLD热风进筒温度（℃）d          0.557578\n",
       "冷却温度（℃）d               0.309354\n",
       "KLD1区蒸汽薄膜阀开度（%）d       0.273314\n",
       "风选冷却排潮负压（mbar）d        0.262301\n",
       "PC-37排潮风机负压值d          0.197469\n",
       "KLD一次减压后蒸汽压力（bar）d     0.191187\n",
       "KLD除水量（l/h）d           0.181896\n",
       "KLD烘后温度（℃）d            0.172017\n",
       "KLD热风温度（℃）d            0.142083\n",
       "时间                     0.138826\n",
       "烘前叶丝流量（kg/h）d          0.132611\n",
       "烘丝筒1区筒壁温度设定            0.127344\n",
       "KLD烘后水分（%）d            0.096855\n",
       "烘前水分（%）d               0.054781\n",
       "KLD热风蒸汽薄膜阀开度（%）d       0.053068\n",
       "KLDD烘丝分汽缸压力            0.047167\n",
       "KLD排潮风门开度（%）d          0.039134\n",
       "制丝高压蒸汽DN200干度-薄板D      0.032958\n",
       "膨胀轮电机电流d               0.027878\n",
       "制丝高压蒸汽DN200瞬时流量-薄板D    0.022721\n",
       "排潮风机电机电流d              0.018464\n",
       "PC-19排潮风机负压值           0.016567\n",
       "锅炉分汽缸压力-薄板D            0.013538\n",
       "制丝高压蒸汽DN200压力-薄板D      0.012142\n",
       "2号切丝机运行                0.010096\n",
       "烘前喂料机提升带速度             0.010033\n",
       "热风电机电流d                0.007329\n",
       "风选冷却排潮开度（%）d           0.006031\n",
       "筒体电机电流d                0.002076\n",
       "气锁电机电流d                0.001610\n",
       "制丝高压蒸汽DN200温度-薄板D      0.001526\n",
       "PC-37排潮风机运行频率d              NaN\n",
       "ZC-35除尘风机运行频率d              NaN\n",
       "排潮风机电机频率d                   NaN\n",
       "除尘房排潮风机频率(Hz)d              NaN\n",
       "除尘房除尘风机频率d                  NaN\n",
       "Name: KLD烘丝机管道风速差压传感器读数d, dtype: float64"
      ]
     },
     "execution_count": 113,
     "metadata": {},
     "output_type": "execute_result"
    }
   ],
   "source": [
    "abs(corr['KLD烘丝机管道风速差压传感器读数d']).sort_values(ascending=False)\n",
    "# 除尘房排潮风门开度d"
   ]
  },
  {
   "cell_type": "code",
   "execution_count": null,
   "metadata": {},
   "outputs": [],
   "source": []
  }
 ],
 "metadata": {
  "kernelspec": {
   "display_name": "venv",
   "language": "python",
   "name": "python3"
  },
  "language_info": {
   "codemirror_mode": {
    "name": "ipython",
    "version": 3
   },
   "file_extension": ".py",
   "mimetype": "text/x-python",
   "name": "python",
   "nbconvert_exporter": "python",
   "pygments_lexer": "ipython3",
   "version": "3.8.10"
  },
  "orig_nbformat": 4,
  "vscode": {
   "interpreter": {
    "hash": "a30998abf361fc6e144ed590788608468acb25fed016a5da90cd5a9cea7e2526"
   }
  }
 },
 "nbformat": 4,
 "nbformat_minor": 2
}
