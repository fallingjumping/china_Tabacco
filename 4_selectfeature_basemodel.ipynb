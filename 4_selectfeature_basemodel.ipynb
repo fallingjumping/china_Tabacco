{
 "cells": [
  {
   "cell_type": "code",
   "execution_count": 69,
   "metadata": {},
   "outputs": [],
   "source": [
    "import pandas as pd\n",
    "import numpy as np\n",
    "\n",
    "from sklearn.model_selection import train_test_split\n",
    "from sklearn.preprocessing import StandardScaler\n",
    "from pickle import dump,load\n",
    "from sklearn.feature_selection import SelectKBest,mutual_info_regression\n",
    "from sklearn.linear_model import LassoCV,LinearRegression\n",
    "from sklearn.feature_selection import RFE\n",
    "from sklearn.ensemble import RandomForestRegressor\n",
    "from sklearn.tree import DecisionTreeRegressor\n",
    "\n",
    "import heapq"
   ]
  },
  {
   "attachments": {},
   "cell_type": "markdown",
   "metadata": {},
   "source": [
    "load data"
   ]
  },
  {
   "cell_type": "code",
   "execution_count": 133,
   "metadata": {},
   "outputs": [],
   "source": [
    "data = pd.read_csv('./data/full_data.csv', encoding='utf-16', sep='\\t')\n",
    "data.drop(columns=['Unnamed: 0','KLD热风风门开度（%）d.1'], inplace=True)\n",
    "data.head()\n",
    "data = data.iloc[int(len(data) * 0.5):, :]"
   ]
  },
  {
   "cell_type": "code",
   "execution_count": 135,
   "metadata": {},
   "outputs": [],
   "source": [
    "# data.head()"
   ]
  },
  {
   "cell_type": "code",
   "execution_count": 139,
   "metadata": {},
   "outputs": [],
   "source": [
    "target = 'KLD热风风门开度（%）d'\n",
    "y = data['KLD热风风门开度（%）d']\n",
    "x = data.drop(columns=['KLD热风风门开度（%）d'])\n",
    "col_names = x.columns.to_list()"
   ]
  },
  {
   "cell_type": "code",
   "execution_count": 137,
   "metadata": {},
   "outputs": [
    {
     "name": "stdout",
     "output_type": "stream",
     "text": [
      "yes\n"
     ]
    }
   ],
   "source": [
    "if 'KLD热风风门开度（%）d.1' in data.columns.to_list():\n",
    "    print('yes')\n",
    "if 'KLD热风风门开度（%）d' in data.columns.to_list():\n",
    "    print('yes')"
   ]
  },
  {
   "attachments": {},
   "cell_type": "markdown",
   "metadata": {},
   "source": [
    "Feature Selection"
   ]
  },
  {
   "cell_type": "code",
   "execution_count": 140,
   "metadata": {},
   "outputs": [],
   "source": [
    "x_train,x_test,y_train,y_test = train_test_split(x,y,test_size=0.8,shuffle=True)"
   ]
  },
  {
   "cell_type": "code",
   "execution_count": 107,
   "metadata": {},
   "outputs": [
    {
     "data": {
      "text/plain": [
       "((16592, 39), (16592,))"
      ]
     },
     "execution_count": 107,
     "metadata": {},
     "output_type": "execute_result"
    }
   ],
   "source": [
    "x_test.shape,y_test.shape"
   ]
  },
  {
   "cell_type": "code",
   "execution_count": 108,
   "metadata": {},
   "outputs": [],
   "source": [
    "# x_train.head()"
   ]
  },
  {
   "cell_type": "code",
   "execution_count": 141,
   "metadata": {},
   "outputs": [],
   "source": [
    "feature_select_result_df = pd.DataFrame(data={'feature': col_names})\n",
    "feature_select_result_df = feature_select_result_df.set_index('feature')\n",
    "\n",
    "mutual_reg_result = mutual_info_regression(x_train, y_train)\n",
    "# selector = SelectKBest(mutual_info_regression, k=25)\n",
    "# selector.fit(x_train, y_train)\n",
    "# cols = selector.get_support(indices=True)\n",
    "# features_selected = []\n",
    "# for i in cols:\n",
    "#     features_selected.append(col_names[i])\n",
    "mir_max_index = heapq.nlargest(25, range(len(mutual_reg_result)), mutual_reg_result.take)"
   ]
  },
  {
   "cell_type": "code",
   "execution_count": 142,
   "metadata": {},
   "outputs": [],
   "source": [
    "estimator_lasso = LassoCV()\n",
    "estimator_lasso.fit(x_train, y_train)\n",
    "LassoCV_feature_list = estimator_lasso.coef_\n",
    "\n",
    "LassoCV_max_index = heapq.nlargest(25, range(len(LassoCV_feature_list)), LassoCV_feature_list.take)"
   ]
  },
  {
   "cell_type": "code",
   "execution_count": 143,
   "metadata": {},
   "outputs": [],
   "source": [
    "selector = RFE(LinearRegression(), n_features_to_select=25)\n",
    "selector.fit(x_train, y_train)\n",
    "rfelr_feature_list = selector.ranking_\n",
    "\n",
    "rfelr_index = np.where(rfelr_feature_list == 1)[0].tolist()"
   ]
  },
  {
   "cell_type": "code",
   "execution_count": 112,
   "metadata": {},
   "outputs": [],
   "source": [
    "# Wrapper 2  random_state=42, max_depth=5\n",
    "selector = RFE(RandomForestRegressor() , n_features_to_select=25)\n",
    "selector.fit(x_train, y_train)\n",
    "rferfr_feature_list = selector.ranking_\n",
    "\n",
    "rferfr_index = np.where(rferfr_feature_list == 1)[0].tolist()"
   ]
  },
  {
   "cell_type": "code",
   "execution_count": 144,
   "metadata": {},
   "outputs": [],
   "source": [
    "model = DecisionTreeRegressor()\n",
    "model.fit(x_train, y_train)\n",
    "dtr_feature = model.feature_importances_\n",
    "\n",
    "dtr_max_index = heapq.nlargest(25, range(len(dtr_feature)), dtr_feature.take)"
   ]
  },
  {
   "cell_type": "code",
   "execution_count": 145,
   "metadata": {},
   "outputs": [
    {
     "data": {
      "text/plain": [
       "array([3., 3., 3., 3., 3., 2., 2., 1., 3., 3., 3., 3., 3., 2., 3., 3., 1.,\n",
       "       1., 4., 3., 1., 1., 2., 1., 2., 2., 2., 3., 3., 4., 1., 0., 2., 0.,\n",
       "       0., 0., 0., 2., 0., 2., 2., 2., 1., 0., 1., 1., 0., 1., 1., 1., 1.,\n",
       "       3., 0., 0., 1., 0., 1., 1., 0., 2., 0., 0., 1.])"
      ]
     },
     "execution_count": 145,
     "metadata": {},
     "output_type": "execute_result"
    }
   ],
   "source": [
    "l = np.zeros(len(col_names))\n",
    "for i in dtr_max_index:\n",
    "    l[i] += 1\n",
    "# for i in rferfr_index:\n",
    "#     l[i] += 1\n",
    "for i in rfelr_index:\n",
    "    l[i] += 1\n",
    "for i in LassoCV_max_index:\n",
    "    l[i] += 1\n",
    "for i in mir_max_index:\n",
    "    l[i] += 1\n",
    "l"
   ]
  },
  {
   "cell_type": "code",
   "execution_count": 124,
   "metadata": {},
   "outputs": [
    {
     "data": {
      "text/plain": [
       "['1区冷凝水温度（℃）d',\n",
       " '1区蒸汽压力（bar）d',\n",
       " '1区筒壁温度（℃）d',\n",
       " '2区冷凝水温度（℃）d',\n",
       " '2区蒸汽压力（bar）d',\n",
       " '2区筒壁温度（℃）d',\n",
       " 'KLD1区蒸汽薄膜阀开度（%）d',\n",
       " 'KLD1区蒸汽薄膜阀开度反馈值TIC1-Y1（%）D',\n",
       " 'KLD2区蒸汽薄膜阀开度（%）d',\n",
       " 'KLD2区蒸汽薄膜阀开度反馈值TIC3-Y22（%）D',\n",
       " 'KLD排潮温度（℃）d',\n",
       " 'KLD排潮风门开度反馈值PIC1-Y6（%）D',\n",
       " 'KLD烘丝机管道风速差压传感器读数d',\n",
       " 'KLD烘后温度（℃）d',\n",
       " '制丝A线烘丝段用蒸汽流量',\n",
       " '烘前叶丝累计量（kg）d',\n",
       " 'KLD热风风门开度（%）d.1']"
      ]
     },
     "execution_count": 124,
     "metadata": {},
     "output_type": "execute_result"
    }
   ],
   "source": [
    "list40 = []\n",
    "for i in range(len(l)):\n",
    "    if l[i] > 2:\n",
    "        list40.append(col_names[i])\n",
    "list40"
   ]
  },
  {
   "cell_type": "code",
   "execution_count": 146,
   "metadata": {},
   "outputs": [
    {
     "data": {
      "text/plain": [
       "(18,\n",
       " ['时间',\n",
       "  '1区冷凝水温度（℃）d',\n",
       "  '1区蒸汽压力（bar）d',\n",
       "  '1区筒壁温度（℃）d',\n",
       "  '2区冷凝水温度（℃）d',\n",
       "  'KLD1区蒸汽薄膜阀开度（%）d',\n",
       "  'KLD1区蒸汽薄膜阀开度反馈值TIC1-Y1（%）D',\n",
       "  'KLD2区蒸汽薄膜阀开度（%）d',\n",
       "  'KLD2区蒸汽薄膜阀开度反馈值TIC3-Y22（%）D',\n",
       "  'KLDD烘丝分汽缸压力',\n",
       "  'KLD一次减压后蒸汽压力（bar）d',\n",
       "  'KLD排潮温度（℃）d',\n",
       "  'KLD排潮风门开度反馈值PIC1-Y6（%）D',\n",
       "  'KLD烘丝机管道风速差压传感器读数d',\n",
       "  'KLD热风进筒温度（℃）d',\n",
       "  'KLD热风风速（m/s）d',\n",
       "  'KLD热风风门开度反馈值SIC1-Y7（%）D',\n",
       "  '烘前叶丝累计量（kg）d'])"
      ]
     },
     "execution_count": 146,
     "metadata": {},
     "output_type": "execute_result"
    }
   ],
   "source": [
    "list65 = []\n",
    "for i in range(len(l)):\n",
    "    if l[i] > 2:\n",
    "        list65.append(col_names[i])\n",
    "len(list65),list65"
   ]
  },
  {
   "cell_type": "code",
   "execution_count": 13,
   "metadata": {},
   "outputs": [],
   "source": [
    "scaler = StandardScaler()\n",
    "x_train = scaler.fit_transform(x_train, y_train)\n",
    "with open('model/scaler.pickle', 'wb') as f:\n",
    "    dump(scaler, f)"
   ]
  }
 ],
 "metadata": {
  "kernelspec": {
   "display_name": "venv",
   "language": "python",
   "name": "python3"
  },
  "language_info": {
   "codemirror_mode": {
    "name": "ipython",
    "version": 3
   },
   "file_extension": ".py",
   "mimetype": "text/x-python",
   "name": "python",
   "nbconvert_exporter": "python",
   "pygments_lexer": "ipython3",
   "version": "3.8.10"
  },
  "orig_nbformat": 4,
  "vscode": {
   "interpreter": {
    "hash": "a30998abf361fc6e144ed590788608468acb25fed016a5da90cd5a9cea7e2526"
   }
  }
 },
 "nbformat": 4,
 "nbformat_minor": 2
}
